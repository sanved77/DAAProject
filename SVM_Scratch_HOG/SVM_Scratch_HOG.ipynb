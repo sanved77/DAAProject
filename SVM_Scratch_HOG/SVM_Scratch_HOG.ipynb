{
 "cells": [
  {
   "cell_type": "code",
   "execution_count": 1,
   "metadata": {},
   "outputs": [],
   "source": [
    "import random \n",
    "import numpy as np\n",
    "import matplotlib.pyplot as plt\n",
    "from sklearn.utils import Bunch\n",
    "from sklearn.model_selection import train_test_split\n",
    "from pathlib import Path\n",
    "\n",
    "from skimage.io import imread\n",
    "from skimage.transform import resize\n",
    "\n",
    "%load_ext autoreload\n",
    "%autoreload 2"
   ]
  },
  {
   "cell_type": "code",
   "execution_count": 2,
   "metadata": {},
   "outputs": [],
   "source": [
    "# Function to read the input data and store in n-dimensional array format\n",
    "import numpy as np\n",
    "import os\n",
    "\n",
    "# read all the images from the folder structure (images are separated in different folders according to classes)\n",
    "def load_files(container_path,dimension=(150, 150,3)):\n",
    "    image_dir = Path(container_path)\n",
    "    folders = [directory for directory in image_dir.iterdir() if directory.is_dir()]\n",
    "    categories = [fo.name for fo in folders]\n",
    "    descr = \"Cataract dataset\"\n",
    "    images = []\n",
    "    flat_data = []\n",
    "    target = []\n",
    "    for i, direc in enumerate(folders):\n",
    "        for file in direc.iterdir():\n",
    "            img = imread(file)\n",
    "            img_resized = resize(img, dimension,anti_aliasing_sigma=True)\n",
    "            flat_data.append(img_resized.flatten()) \n",
    "            images.append(img_resized)\n",
    "            ll=i\n",
    "            if i==0:\n",
    "                ll=-1\n",
    "            target.append(ll)\n",
    "    flat_data = np.array(flat_data)\n",
    "    target = np.array(target)\n",
    "    images = np.array(images)\n",
    "    \n",
    "    return Bunch(data=flat_data,\n",
    "                 target=target,\n",
    "                 target_names=categories,\n",
    "                 images=images,\n",
    "                 DESCR=descr)"
   ]
  },
  {
   "cell_type": "code",
   "execution_count": 3,
   "metadata": {},
   "outputs": [
    {
     "name": "stderr",
     "output_type": "stream",
     "text": [
      "C:\\Users\\Bharati\\Anaconda3\\lib\\site-packages\\skimage\\transform\\_warps.py:105: UserWarning: The default mode, 'constant', will be changed to 'reflect' in skimage 0.15.\n",
      "  warn(\"The default mode, 'constant', will be changed to 'reflect' in \"\n",
      "C:\\Users\\Bharati\\Anaconda3\\lib\\site-packages\\skimage\\transform\\_warps.py:110: UserWarning: Anti-aliasing will be enabled by default in skimage 0.15 to avoid aliasing artifacts when down-sampling images.\n",
      "  warn(\"Anti-aliasing will be enabled by default in skimage 0.15 to \"\n"
     ]
    },
    {
     "name": "stdout",
     "output_type": "stream",
     "text": [
      "Train data shape:  (6991, 67500)\n",
      "Train labels shape:  (6991,)\n",
      "Test data shape:  (2997, 67500)\n",
      "Test labels shape:  (2997,)\n"
     ]
    }
   ],
   "source": [
    "# two classes normal, cataract\n",
    "\n",
    "def read_data():\n",
    "    # path to hog modified eye images\n",
    "    image_dir ='\\dataset_hog'\n",
    "    image_dataset=load_files(image_dir)\n",
    "    # split the data into training an testing data and labels (30% of data is for testing)\n",
    "    X_train, X_test, y_train, y_test = train_test_split(image_dataset.data, image_dataset.target, test_size=0.3,random_state=109)\n",
    "    return X_train, y_train, X_test, y_test\n",
    "\n",
    "\n",
    "# Invoke the above functions to get our data\n",
    "X_train, y_train, X_test, y_test = read_data()\n",
    "\n",
    "# check the shapes of tarin and test data\n",
    "print('Train data shape: ', X_train.shape)\n",
    "print('Train labels shape: ', y_train.shape)\n",
    "\n",
    "print ('Test data shape: ', X_test.shape)\n",
    "print ('Test labels shape: ', y_test.shape)"
   ]
  },
  {
   "cell_type": "code",
   "execution_count": 4,
   "metadata": {},
   "outputs": [],
   "source": [
    "# function to train the svm model\n",
    "def svm_fit(epochs,c,X,Y):\n",
    "    m,n_features=X.shape[0],X.shape[1]\n",
    "    w=np.zeros(n_features)\n",
    "    #print(Y)\n",
    "    #print(X.shape)\n",
    "    #print(len(X))\n",
    "    i=1\n",
    "    while i<epochs:\n",
    "        j = np.random.choice(m, 1)[0]\n",
    "        eta=1. / (c*(i+1))\n",
    "        x, y = X[j], Y[j]\n",
    "        score = w.dot(x)\n",
    "        if y*score < 1:\n",
    "            w = (1 - eta*c)*w + eta*y*x\n",
    "        else:\n",
    "            w = (1 - eta*c)*w\n",
    "        i+=1\n",
    "    return w"
   ]
  },
  {
   "cell_type": "code",
   "execution_count": 5,
   "metadata": {},
   "outputs": [],
   "source": [
    "# function to predict the image classes based on the learned weight matrix\n",
    "def svm_predict(X,w):\n",
    "    y_pred=[]\n",
    "    i=0\n",
    "    while i < len(X):\n",
    "        xi=X[i]\n",
    "        #dp=0\n",
    "        score = w.dot(xi)\n",
    "        if score>=0:\n",
    "            y_pred.append(1)\n",
    "        else:\n",
    "            y_pred.append(-1)\n",
    "        i+=1\n",
    "    return y_pred"
   ]
  },
  {
   "cell_type": "code",
   "execution_count": 10,
   "metadata": {},
   "outputs": [],
   "source": [
    "from sklearn import metrics\n",
    "\n",
    "# start training the model\n",
    "num_itrs=1\n",
    "epochs=500\n",
    "c=0.015\n",
    "#for i in range(num_itrs):\n",
    "w=svm_fit(epochs,c,X_train,y_train)"
   ]
  },
  {
   "cell_type": "code",
   "execution_count": 12,
   "metadata": {},
   "outputs": [
    {
     "name": "stdout",
     "output_type": "stream",
     "text": [
      "Classification report - \n",
      "               precision    recall  f1-score   support\n",
      "\n",
      "          -1       0.00      0.00      0.00        58\n",
      "           1       0.98      1.00      0.99      2939\n",
      "\n",
      "   micro avg       0.98      0.98      0.98      2997\n",
      "   macro avg       0.49      0.50      0.50      2997\n",
      "weighted avg       0.96      0.98      0.97      2997\n",
      "\n"
     ]
    }
   ],
   "source": [
    "# test the model and display classification report\n",
    "y_pred=svm_predict(X_test,w)\n",
    "print(\"Classification report - \\n\",\n",
    "    metrics.classification_report(y_test, y_pred))\n",
    "#print('Training accuracy: %f' % (np.mean(y_test == y_pred)))"
   ]
  },
  {
   "cell_type": "code",
   "execution_count": null,
   "metadata": {},
   "outputs": [],
   "source": [
    "# read the images to predict\n",
    "image_dir = '\\predict'\n",
    "image_dataset=load_files(image_dir)\n",
    "X_1, X_2, y_1, y_2 = train_test_split(image_dataset.data, image_dataset.target, test_size=0.0,random_state=109)\n",
    "\n",
    "# predict the image classes\n",
    "y_pred_1=svm_predict(X_1,w)\n",
    "\n",
    "# class -1 belongs to cataract and class 1 belongs to normal\n",
    "for i in y_pred_1: \n",
    "    if i==-1:\n",
    "        print(\"Cataract\")\n",
    "    else:\n",
    "        print(\"Normal\")"
   ]
  }
 ],
 "metadata": {
  "kernelspec": {
   "display_name": "Python 3",
   "language": "python",
   "name": "python3"
  },
  "language_info": {
   "codemirror_mode": {
    "name": "ipython",
    "version": 3
   },
   "file_extension": ".py",
   "mimetype": "text/x-python",
   "name": "python",
   "nbconvert_exporter": "python",
   "pygments_lexer": "ipython3",
   "version": "3.7.3"
  }
 },
 "nbformat": 4,
 "nbformat_minor": 2
}
